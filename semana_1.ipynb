{
 "cells": [
  {
   "cell_type": "code",
   "execution_count": 2,
   "id": "9f5e555a-34af-4ed5-a502-b02237a8904c",
   "metadata": {},
   "outputs": [
    {
     "name": "stdout",
     "output_type": "stream",
     "text": [
      "El promedio es:  62.0\n"
     ]
    }
   ],
   "source": [
    "numero1 = 54\n",
    "numero2 = 56\n",
    "numero3 = 76\n",
    "suma = numero1 + numero2 + numero3\n",
    "promedio = suma/3\n",
    "print(\"El promedio es: \", promedio)"
   ]
  },
  {
   "cell_type": "code",
   "execution_count": null,
   "id": "d9010f3c-36b8-432a-9fc4-93ddae526992",
   "metadata": {},
   "outputs": [],
   "source": []
  }
 ],
 "metadata": {
  "kernelspec": {
   "display_name": "Python 3 (ipykernel)",
   "language": "python",
   "name": "python3"
  },
  "language_info": {
   "codemirror_mode": {
    "name": "ipython",
    "version": 3
   },
   "file_extension": ".py",
   "mimetype": "text/x-python",
   "name": "python",
   "nbconvert_exporter": "python",
   "pygments_lexer": "ipython3",
   "version": "3.13.7"
  }
 },
 "nbformat": 4,
 "nbformat_minor": 5
}
